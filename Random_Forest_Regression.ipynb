{
 "cells": [
  {
   "cell_type": "markdown",
   "metadata": {},
   "source": [
    "## Objectives"
   ]
  },
  {
   "cell_type": "markdown",
   "metadata": {},
   "source": [
    "1.- Predict ad/absorption energies (Eads) of atomic C on tranistion metal surfaces using electronic and geometric features of such surfaces.\n",
    "\n",
    "2.- Identify the most relevant features describing ad/absorption energies."
   ]
  },
  {
   "cell_type": "markdown",
   "metadata": {},
   "source": [
    "## Importing Libraries"
   ]
  },
  {
   "cell_type": "code",
   "execution_count": 1,
   "metadata": {},
   "outputs": [
    {
     "data": {
      "text/plain": [
       "'1.0.1'"
      ]
     },
     "execution_count": 1,
     "metadata": {},
     "output_type": "execute_result"
    }
   ],
   "source": [
    "import pandas as pd\n",
    "from pandas import DataFrame\n",
    "import numpy as np\n",
    "import sklearn\n",
    "from sklearn.model_selection import learning_curve\n",
    "from sklearn.metrics import mean_absolute_error\n",
    "\n",
    "# Here, a seed is chosen to ensure that each run produces the same results. \n",
    "# Everytime a random number is needed n_rand is used.\n",
    "n_rand = 95\n",
    "\n",
    "sklearn.__version__ # Checking the sklearn version used in this notebook."
   ]
  },
  {
   "cell_type": "markdown",
   "metadata": {},
   "source": [
    "## Defining a Function to Calculate Learning Curves"
   ]
  },
  {
   "cell_type": "code",
   "execution_count": 2,
   "metadata": {},
   "outputs": [],
   "source": [
    "def plot_learning_curve(estimator, title, X, y, ylim = None, cv = None,\n",
    "                        n_jobs = -1, train_sizes = np.linspace(.1, 1.0, 5)):\n",
    "    \"\"\"\n",
    "    Generate a simple plot of the test and training learning curve.\n",
    "\n",
    "    Parameters\n",
    "    ----------\n",
    "    estimator : object type that implements the \"fit\" and \"predict\" methods\n",
    "        An object of that type which is cloned for each validation.\n",
    "\n",
    "    title : string\n",
    "        Title for the chart.\n",
    "\n",
    "    X : array-like, shape (n_samples, n_features)\n",
    "        Training vector, where n_samples is the number of samples and\n",
    "        n_features is the number of features.\n",
    "\n",
    "    y : array-like, shape (n_samples) or (n_samples, n_features), optional\n",
    "        Target relative to X for classification or regression;\n",
    "        None for unsupervised learning.\n",
    "\n",
    "    ylim : tuple, shape (ymin, ymax), optional\n",
    "        Defines minimum and maximum yvalues plotted.\n",
    "\n",
    "    cv : int, cross-validation generator or an iterable, optional\n",
    "        Determines the cross-validation splitting strategy.\n",
    "        Possible inputs for cv are:\n",
    "          - None, to use the default 3-fold cross-validation,\n",
    "          - integer, to specify the number of folds.\n",
    "          - :term:`CV splitter`,\n",
    "          - An iterable yielding (train, test) splits as arrays of indices.\n",
    "\n",
    "        For integer/None inputs, if ``y`` is binary or multiclass,\n",
    "        :class:`StratifiedKFold` used. If the estimator is not a classifier\n",
    "        or if ``y`` is neither binary nor multiclass, :class:`KFold` is used.\n",
    "\n",
    "        Refer :ref:`User Guide <cross_validation>` for the various\n",
    "        cross-validators that can be used here.\n",
    "\n",
    "    n_jobs : int or None, optional (default=None)\n",
    "        Number of jobs to run in parallel.\n",
    "        ``None`` means 1 unless in a :obj:`joblib.parallel_backend` context.\n",
    "        ``-1`` means using all processors. See :term:`Glossary <n_jobs>`\n",
    "        for more details.\n",
    "\n",
    "    train_sizes : array-like, shape (n_ticks,), dtype float or int\n",
    "        Relative or absolute numbers of training examples that will be used to\n",
    "        generate the learning curve. If the dtype is float, it is regarded as a\n",
    "        fraction of the maximum size of the training set (that is determined\n",
    "        by the selected validation method), i.e. it has to be within (0, 1].\n",
    "        Otherwise it is interpreted as absolute sizes of the training sets.\n",
    "        Note that for classification the number of samples usually have to\n",
    "        be big enough to contain at least one sample from each class.\n",
    "        (default: np.linspace(0.1, 1.0, 5))\n",
    "    \"\"\"\n",
    "    plt.figure(figsize=(8,6))\n",
    "    plt.title(title, fontsize=18)\n",
    "    plt.xticks(fontsize=14)\n",
    "    plt.yticks(fontsize=14)\n",
    "    if ylim is not None:\n",
    "        plt.ylim(*ylim)\n",
    "    plt.xlabel(\"Training Set Size\", fontsize=18)\n",
    "    plt.ylabel(\"MAE (kJ/mol)\",fontsize=18)\n",
    "    train_sizes, train_scores, test_scores = learning_curve(\n",
    "        estimator, X, y, cv=cv, n_jobs=n_jobs, train_sizes=train_sizes, scoring='neg_mean_absolute_error')\n",
    "    train_scores_mean = np.mean(train_scores, axis=1)\n",
    "    train_scores_std = np.std(train_scores, axis=1)\n",
    "    test_scores_mean = np.mean(test_scores, axis=1)\n",
    "    test_scores_std = np.std(test_scores, axis=1)\n",
    "    \n",
    "    train_scores_q25 = np.quantile(train_scores,0.25, axis=1)\n",
    "    train_scores_q50 = np.quantile(train_scores,0.50, axis=1)\n",
    "    train_scores_q75 = np.quantile(train_scores, 0.75, axis=1)\n",
    "    \n",
    "    test_scores_q25 = np.quantile(test_scores,0.25, axis=1)\n",
    "    test_scores_q50 = np.quantile(test_scores,0.50, axis=1)\n",
    "    test_scores_q75 = np.quantile(test_scores, 0.75, axis=1)\n",
    "    \n",
    "    plt.grid(color='gray', linestyle='--', linewidth=0.3, zorder=0)\n",
    "\n",
    "    plt.tick_params(axis='both', direction = 'out')\n",
    "    \n",
    "    plt.fill_between(train_sizes, -1*train_scores_q25,\n",
    "                    -1*train_scores_q75, alpha=0.3,\n",
    "                     color=\"b\")\n",
    "    plt.fill_between(train_sizes, -1*test_scores_q25,\n",
    "                     -1*test_scores_q75, alpha=0.3, color=\"g\")\n",
    "    plt.plot(train_sizes, -train_scores_q50, '-', color=\"b\",\n",
    "             label=\"Train MAE\")\n",
    "    plt.plot(train_sizes, -test_scores_q50, '-', color=\"g\",\n",
    "             label=\"Test MAE\")\n",
    "  \n",
    "    plt.legend(loc=\"best\", fontsize=16)\n",
    "    return plt"
   ]
  },
  {
   "cell_type": "markdown",
   "metadata": {},
   "source": [
    "## Reading, Encoding, and Organizing Data"
   ]
  },
  {
   "cell_type": "code",
   "execution_count": 3,
   "metadata": {},
   "outputs": [
    {
     "data": {
      "text/html": [
       "<div>\n",
       "<style scoped>\n",
       "    .dataframe tbody tr th:only-of-type {\n",
       "        vertical-align: middle;\n",
       "    }\n",
       "\n",
       "    .dataframe tbody tr th {\n",
       "        vertical-align: top;\n",
       "    }\n",
       "\n",
       "    .dataframe thead th {\n",
       "        text-align: right;\n",
       "    }\n",
       "</style>\n",
       "<table border=\"1\" class=\"dataframe\">\n",
       "  <thead>\n",
       "    <tr style=\"text-align: right;\">\n",
       "      <th></th>\n",
       "      <th>bcc</th>\n",
       "      <th>fcc</th>\n",
       "      <th>hcp</th>\n",
       "      <th>distance</th>\n",
       "      <th>nd</th>\n",
       "      <th>cn sur</th>\n",
       "      <th>Ed</th>\n",
       "      <th>Edw</th>\n",
       "      <th>Eu</th>\n",
       "      <th>SE</th>\n",
       "      <th>WF</th>\n",
       "      <th>CNsite</th>\n",
       "      <th>Eads</th>\n",
       "    </tr>\n",
       "  </thead>\n",
       "  <tbody>\n",
       "    <tr>\n",
       "      <th>0</th>\n",
       "      <td>0.0</td>\n",
       "      <td>0.0</td>\n",
       "      <td>1.0</td>\n",
       "      <td>319.7</td>\n",
       "      <td>2.0</td>\n",
       "      <td>9.0</td>\n",
       "      <td>3.00</td>\n",
       "      <td>12.26</td>\n",
       "      <td>4.60</td>\n",
       "      <td>1.59</td>\n",
       "      <td>4.95</td>\n",
       "      <td>6.0</td>\n",
       "      <td>-887.0</td>\n",
       "    </tr>\n",
       "    <tr>\n",
       "      <th>1</th>\n",
       "      <td>0.0</td>\n",
       "      <td>0.0</td>\n",
       "      <td>1.0</td>\n",
       "      <td>319.7</td>\n",
       "      <td>2.0</td>\n",
       "      <td>8.0</td>\n",
       "      <td>3.04</td>\n",
       "      <td>12.58</td>\n",
       "      <td>-0.38</td>\n",
       "      <td>1.63</td>\n",
       "      <td>3.15</td>\n",
       "      <td>5.0</td>\n",
       "      <td>-805.0</td>\n",
       "    </tr>\n",
       "    <tr>\n",
       "      <th>2</th>\n",
       "      <td>0.0</td>\n",
       "      <td>0.0</td>\n",
       "      <td>1.0</td>\n",
       "      <td>319.7</td>\n",
       "      <td>2.0</td>\n",
       "      <td>7.0</td>\n",
       "      <td>2.41</td>\n",
       "      <td>10.86</td>\n",
       "      <td>0.08</td>\n",
       "      <td>1.64</td>\n",
       "      <td>3.38</td>\n",
       "      <td>6.0</td>\n",
       "      <td>-930.0</td>\n",
       "    </tr>\n",
       "    <tr>\n",
       "      <th>3</th>\n",
       "      <td>0.0</td>\n",
       "      <td>0.0</td>\n",
       "      <td>1.0</td>\n",
       "      <td>289.0</td>\n",
       "      <td>10.0</td>\n",
       "      <td>9.0</td>\n",
       "      <td>-7.21</td>\n",
       "      <td>-2.04</td>\n",
       "      <td>-6.92</td>\n",
       "      <td>0.35</td>\n",
       "      <td>4.12</td>\n",
       "      <td>6.0</td>\n",
       "      <td>-461.0</td>\n",
       "    </tr>\n",
       "    <tr>\n",
       "      <th>4</th>\n",
       "      <td>0.0</td>\n",
       "      <td>0.0</td>\n",
       "      <td>1.0</td>\n",
       "      <td>289.0</td>\n",
       "      <td>10.0</td>\n",
       "      <td>8.0</td>\n",
       "      <td>-6.97</td>\n",
       "      <td>-2.43</td>\n",
       "      <td>-6.80</td>\n",
       "      <td>0.57</td>\n",
       "      <td>2.52</td>\n",
       "      <td>5.0</td>\n",
       "      <td>-421.0</td>\n",
       "    </tr>\n",
       "  </tbody>\n",
       "</table>\n",
       "</div>"
      ],
      "text/plain": [
       "   bcc  fcc  hcp  distance    nd  cn sur    Ed    Edw    Eu    SE    WF  \\\n",
       "0  0.0  0.0  1.0     319.7   2.0     9.0  3.00  12.26  4.60  1.59  4.95   \n",
       "1  0.0  0.0  1.0     319.7   2.0     8.0  3.04  12.58 -0.38  1.63  3.15   \n",
       "2  0.0  0.0  1.0     319.7   2.0     7.0  2.41  10.86  0.08  1.64  3.38   \n",
       "3  0.0  0.0  1.0     289.0  10.0     9.0 -7.21  -2.04 -6.92  0.35  4.12   \n",
       "4  0.0  0.0  1.0     289.0  10.0     8.0 -6.97  -2.43 -6.80  0.57  2.52   \n",
       "\n",
       "   CNsite   Eads  \n",
       "0     6.0 -887.0  \n",
       "1     5.0 -805.0  \n",
       "2     6.0 -930.0  \n",
       "3     6.0 -461.0  \n",
       "4     5.0 -421.0  "
      ]
     },
     "execution_count": 3,
     "metadata": {},
     "output_type": "execute_result"
    }
   ],
   "source": [
    "data = pd.read_csv(\"data.csv\", sep=';') # Reading data from the .csv file.\n",
    "columns = [0, 3, 11, 12, 14, 16, 17, 18]\n",
    "data.drop(data.columns[columns],axis=1,inplace=True) # Eliminating unnecessary columns.\n",
    "\n",
    "from sklearn.preprocessing import OneHotEncoder\n",
    "from sklearn.compose import ColumnTransformer\n",
    "\n",
    "ct = ColumnTransformer(transformers=[('encoder', OneHotEncoder(), [1])], remainder='passthrough')\n",
    "data = ct.fit_transform(data) # Enconding categorical features as vectors.\n",
    "data = DataFrame(data)\n",
    "data.columns = [\"bcc\", \"fcc\", \"hcp\", \"distance\", \"nd\", \"cn sur\", \"Ed\", \"Edw\", \"Eu\", \"SE\", \"WF\", \"CNsite\", \"Eads\"]\n",
    "pd.set_option(\"display.max_columns\", None)\n",
    "\n",
    "i=0 # Eliminating unnecessary rows\n",
    "while data.shape[0] > 81:\n",
    "    data.drop([data.index[i] , data.index[i+1], data.index[i+2]], inplace=True)\n",
    "    i = i + 1\n",
    "data.reset_index(inplace=True)\n",
    "del data[\"index\"]\n",
    "\n",
    "data.head()"
   ]
  },
  {
   "cell_type": "markdown",
   "metadata": {},
   "source": [
    "## Defining X, Y, and the Cross-Validation Method"
   ]
  },
  {
   "cell_type": "code",
   "execution_count": 4,
   "metadata": {},
   "outputs": [],
   "source": [
    "from sklearn.model_selection import ShuffleSplit\n",
    "from sklearn.model_selection import cross_val_score\n",
    "from sklearn.model_selection import cross_validate\n",
    "\n",
    "# X contains a 2-dimensional matrix with all the features. Y contains the Eads vector.\n",
    "X = data.iloc[:, :-1].values\n",
    "y = data.iloc[:, -1].values\n",
    "\n",
    "# Shuffle Split works better since the dataset is very small and results are susceptible to how is the dataset split.\n",
    "cv = ShuffleSplit(n_splits=20, train_size = 0.8, test_size=0.2, random_state=n_rand)"
   ]
  },
  {
   "cell_type": "markdown",
   "metadata": {},
   "source": [
    "## Linear Regression"
   ]
  },
  {
   "cell_type": "code",
   "execution_count": 5,
   "metadata": {},
   "outputs": [
    {
     "name": "stdout",
     "output_type": "stream",
     "text": [
      "MAE: 66.6 ± 12.4\n"
     ]
    }
   ],
   "source": [
    "from sklearn.linear_model import LinearRegression # Evaluating a linear regression in terms of test MAE.\n",
    "\n",
    "estimator = LinearRegression()\n",
    "scores = cross_val_score(estimator = estimator, X = X, y = y, scoring = \"neg_mean_absolute_error\", cv = cv)\n",
    "\n",
    "print(\"MAE: {:.1f}\".format(-scores.mean()), u\"\\u00B1\", \"{:.1f}\".format(scores.std()))"
   ]
  },
  {
   "cell_type": "markdown",
   "metadata": {},
   "source": [
    "## Decision Tree Regressor"
   ]
  },
  {
   "cell_type": "code",
   "execution_count": 6,
   "metadata": {},
   "outputs": [
    {
     "name": "stdout",
     "output_type": "stream",
     "text": [
      "MAE: 49.5 ± 8.6\n"
     ]
    }
   ],
   "source": [
    "from sklearn.tree import DecisionTreeRegressor # Evaluating a decision tree regressor in terms of test MAE.\n",
    "\n",
    "estimator = DecisionTreeRegressor(random_state=n_rand)\n",
    "scores = cross_val_score(estimator = estimator, X = X, y = y, scoring = \"neg_mean_absolute_error\", cv = cv)\n",
    "\n",
    "print(\"MAE: {:.1f}\".format(-scores.mean()), u\"\\u00B1\", \"{:.1f}\".format(scores.std()))"
   ]
  },
  {
   "cell_type": "markdown",
   "metadata": {},
   "source": [
    "## Random Forest Regressor"
   ]
  },
  {
   "cell_type": "code",
   "execution_count": 7,
   "metadata": {},
   "outputs": [
    {
     "name": "stdout",
     "output_type": "stream",
     "text": [
      "MAE: 43.3 ± 8.7\n"
     ]
    }
   ],
   "source": [
    "from sklearn.ensemble import RandomForestRegressor # Evaluating a random forest regressor in terms of test MAE.\n",
    "\n",
    "estimator = RandomForestRegressor(n_estimators=30, random_state=n_rand)\n",
    "scores = cross_val_score(estimator = estimator, X = X, y = y, scoring = \"neg_mean_absolute_error\", cv = cv)\n",
    "\n",
    "print(\"MAE: {:.1f}\".format(-scores.mean()), u\"\\u00B1\", \"{:.1f}\".format(scores.std()))\n",
    "\n",
    "# Random Forest is the best performing regressor. From hereon, we improve/tune/optimize the method."
   ]
  },
  {
   "cell_type": "markdown",
   "metadata": {},
   "source": [
    "## Removing Unnecessary Features"
   ]
  },
  {
   "cell_type": "code",
   "execution_count": 8,
   "metadata": {},
   "outputs": [
    {
     "name": "stdout",
     "output_type": "stream",
     "text": [
      "MAE: 40.5 ± 9.3\n"
     ]
    }
   ],
   "source": [
    "# Here, the leave-one-out procedure is used to eliminate the non (or less) relevant features.\n",
    "\n",
    "estimator = RandomForestRegressor(n_estimators=30, random_state=n_rand)\n",
    "\n",
    "predictors = [\"Ed\", \"SE\", \"CNsite\"] # One can add/remove features by including them (or not) in this list.\n",
    "X = DataFrame(data[predictors])\n",
    "y = DataFrame(data[\"Eads\"])\n",
    "\n",
    "y = np.array(y)\n",
    "y = y.ravel()\n",
    "\n",
    "scores = cross_val_score(estimator = estimator, X = X, y = y, scoring = \"neg_mean_absolute_error\", cv = cv)\n",
    "\n",
    "print(\"MAE: {:.1f}\".format(-scores.mean()), u\"\\u00B1\", \"{:.1f}\".format(scores.std()))"
   ]
  },
  {
   "cell_type": "code",
   "execution_count": 9,
   "metadata": {},
   "outputs": [
    {
     "name": "stdout",
     "output_type": "stream",
     "text": [
      "Mean Feature Importances:\n",
      "\n",
      "Ed: 0.813\n",
      "SE: 0.095\n",
      "CNsite: 0.092\n"
     ]
    }
   ],
   "source": [
    "# Feature importances are a good way of assesing the relevance of each feature in the model.\n",
    "# Removing the least relevant feature and assesing the impact on the test MAE is the optimal way to proceed.\n",
    "\n",
    "# The most relevant features for the prediction of ad/absorption energies are Ed, SE, and CNsite.\n",
    "\n",
    "results = cross_validate(estimator, X, y, scoring = \"neg_mean_absolute_error\", cv = cv, return_estimator = True)\n",
    "importances = []\n",
    "for model in results['estimator']:\n",
    "    importances.append(model.feature_importances_)\n",
    "mean = sum(importances) / len(importances)\n",
    "print(\"Mean Feature Importances:\")\n",
    "print(\"\")\n",
    "for i,v in enumerate(mean):\n",
    "     print('%s: %.3f' % (predictors[i],v))"
   ]
  },
  {
   "cell_type": "markdown",
   "metadata": {},
   "source": [
    "## Tunning Hyperparameters"
   ]
  },
  {
   "cell_type": "code",
   "execution_count": 10,
   "metadata": {},
   "outputs": [
    {
     "name": "stdout",
     "output_type": "stream",
     "text": [
      "\n",
      "Best Parameters: {'max_features': 2, 'n_estimators': 50}\n",
      "\n",
      "---------------------------------------------\n",
      "\n",
      "Final Test MAE: 39.0 ± 8.9\n",
      "Final Train MAE 13.7 ± 0.9\n",
      "\n",
      "---------------------------------------------\n",
      "\n",
      "Mean Feature Importances:\n",
      "\n",
      "Ed: 0.609\n",
      "SE: 0.312\n",
      "CNsite: 0.079\n"
     ]
    }
   ],
   "source": [
    "# Here, the best hyperparameters for our model are investigated.\n",
    "\n",
    "from sklearn.model_selection import GridSearchCV\n",
    "\n",
    "# A grid of parameters is built.\n",
    "param_grid = [\n",
    "        {'n_estimators': [30, 50, 70], 'max_features': [None, 1, 2, 3]},\n",
    "        {'bootstrap': [False], 'n_estimators': [30, 50, 70], 'max_features': [None, 1, 2, 3]},\n",
    "  ]\n",
    "\n",
    "# GridSearch finds the best combination of parameters, evaluating each of them through the chosen CV method.\n",
    "grid_search = GridSearchCV(estimator, param_grid, cv = cv,\n",
    "                           scoring = \"neg_mean_absolute_error\", return_train_score = True, n_jobs = -1)\n",
    "grid_search.fit(X, y)\n",
    "\n",
    "estimator = grid_search.best_estimator_\n",
    "\n",
    "print(\"\")\n",
    "print(\"Best Parameters:\", grid_search.best_params_)\n",
    "print(\"\")\n",
    "print(\"---------------------------------------------\")\n",
    "\n",
    "# Train and test MAEs are printed.\n",
    "results = cross_validate(estimator, X, y, scoring = \"neg_mean_absolute_error\", cv = cv, return_estimator = True, return_train_score = True)\n",
    "scores_test = results[\"test_score\"]\n",
    "scores_train = results[\"train_score\"]\n",
    "print(\"\")\n",
    "print(\"Final Test MAE: {:.1f}\".format(-scores_test.mean()), u\"\\u00B1\", \"{:.1f}\".format(scores_test.std()))\n",
    "print(\"Final Train MAE {:.1f}\".format(-scores_train.mean()), u\"\\u00B1\", \"{:.1f}\".format(scores_train.std()))\n",
    "print(\"\")\n",
    "print(\"---------------------------------------------\")\n",
    "\n",
    "# Feature importances are also printed in order to undertand which are the most relevant features for our model.\n",
    "importances = []\n",
    "for model in results['estimator']:\n",
    "    importances.append(model.feature_importances_)\n",
    "mean = sum(importances) / len(importances)\n",
    "print(\"\")\n",
    "print(\"Mean Feature Importances:\")\n",
    "print(\"\")\n",
    "for i,v in enumerate(mean):\n",
    "     print('%s: %.3f' % (predictors[i],v))"
   ]
  },
  {
   "cell_type": "markdown",
   "metadata": {},
   "source": [
    "## Learning Curve of the Final Model"
   ]
  },
  {
   "cell_type": "code",
   "execution_count": 11,
   "metadata": {},
   "outputs": [
    {
     "data": {
      "text/plain": [
       "<module 'matplotlib.pyplot' from '/usr/local/lib/python3.9/site-packages/matplotlib/pyplot.py'>"
      ]
     },
     "execution_count": 11,
     "metadata": {},
     "output_type": "execute_result"
    },
    {
     "data": {
      "image/png": "[encoded data removed]",
      "text/plain": [
       "<Figure size 576x432 with 1 Axes>"
      ]
     },
     "metadata": {
      "needs_background": "light"
     },
     "output_type": "display_data"
    }
   ],
   "source": [
    "# Here, the learning curve of the best model is shown.\n",
    "# It is interesting to see if the error has converged in terms of the number of samples in the training set.\n",
    "# It looks like the error is not fully converge. Hence, more training set samples would improve the model.\n",
    "\n",
    "import matplotlib.pyplot as plt\n",
    "%matplotlib inline\n",
    "\n",
    "title = 'Learning Curve'\n",
    "plot_learning_curve(estimator, title, X, y, ylim = (0, 100.), cv = cv, train_sizes = range(5,65))"
   ]
  },
  {
   "cell_type": "code",
   "execution_count": null,
   "metadata": {},
   "outputs": [],
   "source": []
  }
 ],
 "metadata": {
  "anaconda-cloud": {},
  "kernelspec": {
   "display_name": "Python 3 (ipykernel)",
   "language": "python",
   "name": "python3"
  },
  "language_info": {
   "codemirror_mode": {
    "name": "ipython",
    "version": 3
   },
   "file_extension": ".py",
   "mimetype": "text/x-python",
   "name": "python",
   "nbconvert_exporter": "python",
   "pygments_lexer": "ipython3",
   "version": "3.9.7"
  }
 },
 "nbformat": 4,
 "nbformat_minor": 4
}
